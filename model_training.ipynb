{
 "cells": [
  {
   "cell_type": "code",
   "execution_count": 1,
   "id": "5124e51b",
   "metadata": {},
   "outputs": [],
   "source": [
    "import pandas as pd\n",
    "import numpy as np\n",
    "import pickle\n",
    "from file_operations import file_methods\n",
    "from application_logging import logger\n",
    "from sklearn.model_selection import train_test_split,GridSearchCV,cross_val_score\n",
    "from sklearn.tree import DecisionTreeClassifier\n",
    "from sklearn.ensemble import RandomForestClassifier\n",
    "from sklearn.svm import SVC\n",
    "from sklearn.naive_bayes import GaussianNB\n",
    "from sklearn.metrics import classification_report,accuracy_score,roc_curve,roc_auc_score,confusion_matrix\n",
    "from sklearn.preprocessing import StandardScaler\n",
    "import xgboost as xgb\n",
    "%matplotlib inline"
   ]
  },
  {
   "cell_type": "code",
   "execution_count": 2,
   "id": "66e0002d",
   "metadata": {},
   "outputs": [
    {
     "data": {
      "text/html": [
       "<div>\n",
       "<style scoped>\n",
       "    .dataframe tbody tr th:only-of-type {\n",
       "        vertical-align: middle;\n",
       "    }\n",
       "\n",
       "    .dataframe tbody tr th {\n",
       "        vertical-align: top;\n",
       "    }\n",
       "\n",
       "    .dataframe thead th {\n",
       "        text-align: right;\n",
       "    }\n",
       "</style>\n",
       "<table border=\"1\" class=\"dataframe\">\n",
       "  <thead>\n",
       "    <tr style=\"text-align: right;\">\n",
       "      <th></th>\n",
       "      <th>LIMIT_BAL</th>\n",
       "      <th>SEX</th>\n",
       "      <th>EDUCATION</th>\n",
       "      <th>MARRIAGE</th>\n",
       "      <th>AGE</th>\n",
       "      <th>PAY_0</th>\n",
       "      <th>PAY_2</th>\n",
       "      <th>PAY_3</th>\n",
       "      <th>PAY_4</th>\n",
       "      <th>PAY_5</th>\n",
       "      <th>...</th>\n",
       "      <th>BILL_AMT4</th>\n",
       "      <th>BILL_AMT5</th>\n",
       "      <th>BILL_AMT6</th>\n",
       "      <th>PAY_AMT1</th>\n",
       "      <th>PAY_AMT2</th>\n",
       "      <th>PAY_AMT3</th>\n",
       "      <th>PAY_AMT4</th>\n",
       "      <th>PAY_AMT5</th>\n",
       "      <th>PAY_AMT6</th>\n",
       "      <th>default.payment.next.month</th>\n",
       "    </tr>\n",
       "  </thead>\n",
       "  <tbody>\n",
       "    <tr>\n",
       "      <th>0</th>\n",
       "      <td>20000.0</td>\n",
       "      <td>2</td>\n",
       "      <td>2</td>\n",
       "      <td>1</td>\n",
       "      <td>24</td>\n",
       "      <td>2</td>\n",
       "      <td>2</td>\n",
       "      <td>-1</td>\n",
       "      <td>-1</td>\n",
       "      <td>-2</td>\n",
       "      <td>...</td>\n",
       "      <td>0.0</td>\n",
       "      <td>0.0</td>\n",
       "      <td>0.0</td>\n",
       "      <td>0.0</td>\n",
       "      <td>689.0</td>\n",
       "      <td>0.0</td>\n",
       "      <td>0.0</td>\n",
       "      <td>0.0</td>\n",
       "      <td>0.0</td>\n",
       "      <td>1</td>\n",
       "    </tr>\n",
       "    <tr>\n",
       "      <th>1</th>\n",
       "      <td>120000.0</td>\n",
       "      <td>2</td>\n",
       "      <td>2</td>\n",
       "      <td>2</td>\n",
       "      <td>26</td>\n",
       "      <td>-1</td>\n",
       "      <td>2</td>\n",
       "      <td>0</td>\n",
       "      <td>0</td>\n",
       "      <td>0</td>\n",
       "      <td>...</td>\n",
       "      <td>3272.0</td>\n",
       "      <td>3455.0</td>\n",
       "      <td>3261.0</td>\n",
       "      <td>0.0</td>\n",
       "      <td>1000.0</td>\n",
       "      <td>1000.0</td>\n",
       "      <td>1000.0</td>\n",
       "      <td>0.0</td>\n",
       "      <td>2000.0</td>\n",
       "      <td>1</td>\n",
       "    </tr>\n",
       "    <tr>\n",
       "      <th>2</th>\n",
       "      <td>90000.0</td>\n",
       "      <td>2</td>\n",
       "      <td>2</td>\n",
       "      <td>2</td>\n",
       "      <td>34</td>\n",
       "      <td>0</td>\n",
       "      <td>0</td>\n",
       "      <td>0</td>\n",
       "      <td>0</td>\n",
       "      <td>0</td>\n",
       "      <td>...</td>\n",
       "      <td>14331.0</td>\n",
       "      <td>14948.0</td>\n",
       "      <td>15549.0</td>\n",
       "      <td>1518.0</td>\n",
       "      <td>1500.0</td>\n",
       "      <td>1000.0</td>\n",
       "      <td>1000.0</td>\n",
       "      <td>1000.0</td>\n",
       "      <td>5000.0</td>\n",
       "      <td>0</td>\n",
       "    </tr>\n",
       "    <tr>\n",
       "      <th>3</th>\n",
       "      <td>50000.0</td>\n",
       "      <td>2</td>\n",
       "      <td>2</td>\n",
       "      <td>1</td>\n",
       "      <td>37</td>\n",
       "      <td>0</td>\n",
       "      <td>0</td>\n",
       "      <td>0</td>\n",
       "      <td>0</td>\n",
       "      <td>0</td>\n",
       "      <td>...</td>\n",
       "      <td>28314.0</td>\n",
       "      <td>28959.0</td>\n",
       "      <td>29547.0</td>\n",
       "      <td>2000.0</td>\n",
       "      <td>2019.0</td>\n",
       "      <td>1200.0</td>\n",
       "      <td>1100.0</td>\n",
       "      <td>1069.0</td>\n",
       "      <td>1000.0</td>\n",
       "      <td>0</td>\n",
       "    </tr>\n",
       "    <tr>\n",
       "      <th>4</th>\n",
       "      <td>50000.0</td>\n",
       "      <td>1</td>\n",
       "      <td>2</td>\n",
       "      <td>1</td>\n",
       "      <td>57</td>\n",
       "      <td>-1</td>\n",
       "      <td>0</td>\n",
       "      <td>-1</td>\n",
       "      <td>0</td>\n",
       "      <td>0</td>\n",
       "      <td>...</td>\n",
       "      <td>20940.0</td>\n",
       "      <td>19146.0</td>\n",
       "      <td>19131.0</td>\n",
       "      <td>2000.0</td>\n",
       "      <td>36681.0</td>\n",
       "      <td>10000.0</td>\n",
       "      <td>9000.0</td>\n",
       "      <td>689.0</td>\n",
       "      <td>679.0</td>\n",
       "      <td>0</td>\n",
       "    </tr>\n",
       "  </tbody>\n",
       "</table>\n",
       "<p>5 rows × 24 columns</p>\n",
       "</div>"
      ],
      "text/plain": [
       "   LIMIT_BAL  SEX  EDUCATION  MARRIAGE  AGE  PAY_0  PAY_2  PAY_3  PAY_4  \\\n",
       "0    20000.0    2          2         1   24      2      2     -1     -1   \n",
       "1   120000.0    2          2         2   26     -1      2      0      0   \n",
       "2    90000.0    2          2         2   34      0      0      0      0   \n",
       "3    50000.0    2          2         1   37      0      0      0      0   \n",
       "4    50000.0    1          2         1   57     -1      0     -1      0   \n",
       "\n",
       "   PAY_5  ...  BILL_AMT4  BILL_AMT5  BILL_AMT6  PAY_AMT1  PAY_AMT2  PAY_AMT3  \\\n",
       "0     -2  ...        0.0        0.0        0.0       0.0     689.0       0.0   \n",
       "1      0  ...     3272.0     3455.0     3261.0       0.0    1000.0    1000.0   \n",
       "2      0  ...    14331.0    14948.0    15549.0    1518.0    1500.0    1000.0   \n",
       "3      0  ...    28314.0    28959.0    29547.0    2000.0    2019.0    1200.0   \n",
       "4      0  ...    20940.0    19146.0    19131.0    2000.0   36681.0   10000.0   \n",
       "\n",
       "   PAY_AMT4  PAY_AMT5  PAY_AMT6  default.payment.next.month  \n",
       "0       0.0       0.0       0.0                           1  \n",
       "1    1000.0       0.0    2000.0                           1  \n",
       "2    1000.0    1000.0    5000.0                           0  \n",
       "3    1100.0    1069.0    1000.0                           0  \n",
       "4    9000.0     689.0     679.0                           0  \n",
       "\n",
       "[5 rows x 24 columns]"
      ]
     },
     "execution_count": 2,
     "metadata": {},
     "output_type": "execute_result"
    }
   ],
   "source": [
    "data = pd.read_csv(\"Training_Batch_Files/creditCardFraud_28011961_120210.csv\")\n",
    "data.head()"
   ]
  },
  {
   "cell_type": "code",
   "execution_count": 3,
   "id": "aef96125",
   "metadata": {
    "scrolled": true
   },
   "outputs": [
    {
     "data": {
      "text/html": [
       "<div>\n",
       "<style scoped>\n",
       "    .dataframe tbody tr th:only-of-type {\n",
       "        vertical-align: middle;\n",
       "    }\n",
       "\n",
       "    .dataframe tbody tr th {\n",
       "        vertical-align: top;\n",
       "    }\n",
       "\n",
       "    .dataframe thead th {\n",
       "        text-align: right;\n",
       "    }\n",
       "</style>\n",
       "<table border=\"1\" class=\"dataframe\">\n",
       "  <thead>\n",
       "    <tr style=\"text-align: right;\">\n",
       "      <th></th>\n",
       "      <th>LIMIT_BAL</th>\n",
       "      <th>SEX</th>\n",
       "      <th>EDUCATION</th>\n",
       "      <th>MARRIAGE</th>\n",
       "      <th>AGE</th>\n",
       "      <th>PAY_0</th>\n",
       "      <th>PAY_2</th>\n",
       "      <th>PAY_3</th>\n",
       "      <th>PAY_4</th>\n",
       "      <th>PAY_5</th>\n",
       "      <th>...</th>\n",
       "      <th>BILL_AMT3</th>\n",
       "      <th>BILL_AMT4</th>\n",
       "      <th>BILL_AMT5</th>\n",
       "      <th>BILL_AMT6</th>\n",
       "      <th>PAY_AMT1</th>\n",
       "      <th>PAY_AMT2</th>\n",
       "      <th>PAY_AMT3</th>\n",
       "      <th>PAY_AMT4</th>\n",
       "      <th>PAY_AMT5</th>\n",
       "      <th>PAY_AMT6</th>\n",
       "    </tr>\n",
       "  </thead>\n",
       "  <tbody>\n",
       "    <tr>\n",
       "      <th>0</th>\n",
       "      <td>20000.0</td>\n",
       "      <td>2</td>\n",
       "      <td>2</td>\n",
       "      <td>1</td>\n",
       "      <td>24</td>\n",
       "      <td>2</td>\n",
       "      <td>2</td>\n",
       "      <td>-1</td>\n",
       "      <td>-1</td>\n",
       "      <td>-2</td>\n",
       "      <td>...</td>\n",
       "      <td>689.0</td>\n",
       "      <td>0.0</td>\n",
       "      <td>0.0</td>\n",
       "      <td>0.0</td>\n",
       "      <td>0.0</td>\n",
       "      <td>689.0</td>\n",
       "      <td>0.0</td>\n",
       "      <td>0.0</td>\n",
       "      <td>0.0</td>\n",
       "      <td>0.0</td>\n",
       "    </tr>\n",
       "    <tr>\n",
       "      <th>1</th>\n",
       "      <td>120000.0</td>\n",
       "      <td>2</td>\n",
       "      <td>2</td>\n",
       "      <td>2</td>\n",
       "      <td>26</td>\n",
       "      <td>-1</td>\n",
       "      <td>2</td>\n",
       "      <td>0</td>\n",
       "      <td>0</td>\n",
       "      <td>0</td>\n",
       "      <td>...</td>\n",
       "      <td>2682.0</td>\n",
       "      <td>3272.0</td>\n",
       "      <td>3455.0</td>\n",
       "      <td>3261.0</td>\n",
       "      <td>0.0</td>\n",
       "      <td>1000.0</td>\n",
       "      <td>1000.0</td>\n",
       "      <td>1000.0</td>\n",
       "      <td>0.0</td>\n",
       "      <td>2000.0</td>\n",
       "    </tr>\n",
       "    <tr>\n",
       "      <th>2</th>\n",
       "      <td>90000.0</td>\n",
       "      <td>2</td>\n",
       "      <td>2</td>\n",
       "      <td>2</td>\n",
       "      <td>34</td>\n",
       "      <td>0</td>\n",
       "      <td>0</td>\n",
       "      <td>0</td>\n",
       "      <td>0</td>\n",
       "      <td>0</td>\n",
       "      <td>...</td>\n",
       "      <td>13559.0</td>\n",
       "      <td>14331.0</td>\n",
       "      <td>14948.0</td>\n",
       "      <td>15549.0</td>\n",
       "      <td>1518.0</td>\n",
       "      <td>1500.0</td>\n",
       "      <td>1000.0</td>\n",
       "      <td>1000.0</td>\n",
       "      <td>1000.0</td>\n",
       "      <td>5000.0</td>\n",
       "    </tr>\n",
       "    <tr>\n",
       "      <th>3</th>\n",
       "      <td>50000.0</td>\n",
       "      <td>2</td>\n",
       "      <td>2</td>\n",
       "      <td>1</td>\n",
       "      <td>37</td>\n",
       "      <td>0</td>\n",
       "      <td>0</td>\n",
       "      <td>0</td>\n",
       "      <td>0</td>\n",
       "      <td>0</td>\n",
       "      <td>...</td>\n",
       "      <td>49291.0</td>\n",
       "      <td>28314.0</td>\n",
       "      <td>28959.0</td>\n",
       "      <td>29547.0</td>\n",
       "      <td>2000.0</td>\n",
       "      <td>2019.0</td>\n",
       "      <td>1200.0</td>\n",
       "      <td>1100.0</td>\n",
       "      <td>1069.0</td>\n",
       "      <td>1000.0</td>\n",
       "    </tr>\n",
       "    <tr>\n",
       "      <th>4</th>\n",
       "      <td>50000.0</td>\n",
       "      <td>1</td>\n",
       "      <td>2</td>\n",
       "      <td>1</td>\n",
       "      <td>57</td>\n",
       "      <td>-1</td>\n",
       "      <td>0</td>\n",
       "      <td>-1</td>\n",
       "      <td>0</td>\n",
       "      <td>0</td>\n",
       "      <td>...</td>\n",
       "      <td>35835.0</td>\n",
       "      <td>20940.0</td>\n",
       "      <td>19146.0</td>\n",
       "      <td>19131.0</td>\n",
       "      <td>2000.0</td>\n",
       "      <td>36681.0</td>\n",
       "      <td>10000.0</td>\n",
       "      <td>9000.0</td>\n",
       "      <td>689.0</td>\n",
       "      <td>679.0</td>\n",
       "    </tr>\n",
       "  </tbody>\n",
       "</table>\n",
       "<p>5 rows × 23 columns</p>\n",
       "</div>"
      ],
      "text/plain": [
       "   LIMIT_BAL  SEX  EDUCATION  MARRIAGE  AGE  PAY_0  PAY_2  PAY_3  PAY_4  \\\n",
       "0    20000.0    2          2         1   24      2      2     -1     -1   \n",
       "1   120000.0    2          2         2   26     -1      2      0      0   \n",
       "2    90000.0    2          2         2   34      0      0      0      0   \n",
       "3    50000.0    2          2         1   37      0      0      0      0   \n",
       "4    50000.0    1          2         1   57     -1      0     -1      0   \n",
       "\n",
       "   PAY_5  ...  BILL_AMT3  BILL_AMT4  BILL_AMT5  BILL_AMT6  PAY_AMT1  PAY_AMT2  \\\n",
       "0     -2  ...      689.0        0.0        0.0        0.0       0.0     689.0   \n",
       "1      0  ...     2682.0     3272.0     3455.0     3261.0       0.0    1000.0   \n",
       "2      0  ...    13559.0    14331.0    14948.0    15549.0    1518.0    1500.0   \n",
       "3      0  ...    49291.0    28314.0    28959.0    29547.0    2000.0    2019.0   \n",
       "4      0  ...    35835.0    20940.0    19146.0    19131.0    2000.0   36681.0   \n",
       "\n",
       "   PAY_AMT3  PAY_AMT4  PAY_AMT5  PAY_AMT6  \n",
       "0       0.0       0.0       0.0       0.0  \n",
       "1    1000.0    1000.0       0.0    2000.0  \n",
       "2    1000.0    1000.0    1000.0    5000.0  \n",
       "3    1200.0    1100.0    1069.0    1000.0  \n",
       "4   10000.0    9000.0     689.0     679.0  \n",
       "\n",
       "[5 rows x 23 columns]"
      ]
     },
     "execution_count": 3,
     "metadata": {},
     "output_type": "execute_result"
    }
   ],
   "source": [
    "x = data.drop(columns=\"default.payment.next.month\")\n",
    "x.head()"
   ]
  },
  {
   "cell_type": "code",
   "execution_count": 4,
   "id": "0d092b76",
   "metadata": {},
   "outputs": [
    {
     "data": {
      "text/html": [
       "<div>\n",
       "<style scoped>\n",
       "    .dataframe tbody tr th:only-of-type {\n",
       "        vertical-align: middle;\n",
       "    }\n",
       "\n",
       "    .dataframe tbody tr th {\n",
       "        vertical-align: top;\n",
       "    }\n",
       "\n",
       "    .dataframe thead th {\n",
       "        text-align: right;\n",
       "    }\n",
       "</style>\n",
       "<table border=\"1\" class=\"dataframe\">\n",
       "  <thead>\n",
       "    <tr style=\"text-align: right;\">\n",
       "      <th></th>\n",
       "      <th>LIMIT_BAL</th>\n",
       "      <th>SEX</th>\n",
       "      <th>EDUCATION</th>\n",
       "      <th>MARRIAGE</th>\n",
       "      <th>AGE</th>\n",
       "      <th>PAY_0</th>\n",
       "      <th>PAY_2</th>\n",
       "      <th>PAY_3</th>\n",
       "      <th>PAY_4</th>\n",
       "      <th>PAY_5</th>\n",
       "      <th>...</th>\n",
       "      <th>BILL_AMT3</th>\n",
       "      <th>BILL_AMT4</th>\n",
       "      <th>BILL_AMT5</th>\n",
       "      <th>BILL_AMT6</th>\n",
       "      <th>PAY_AMT1</th>\n",
       "      <th>PAY_AMT2</th>\n",
       "      <th>PAY_AMT3</th>\n",
       "      <th>PAY_AMT4</th>\n",
       "      <th>PAY_AMT5</th>\n",
       "      <th>PAY_AMT6</th>\n",
       "    </tr>\n",
       "  </thead>\n",
       "  <tbody>\n",
       "    <tr>\n",
       "      <th>790</th>\n",
       "      <td>30000.0</td>\n",
       "      <td>2</td>\n",
       "      <td>2</td>\n",
       "      <td>2</td>\n",
       "      <td>51</td>\n",
       "      <td>1</td>\n",
       "      <td>2</td>\n",
       "      <td>2</td>\n",
       "      <td>0</td>\n",
       "      <td>0</td>\n",
       "      <td>...</td>\n",
       "      <td>25761.0</td>\n",
       "      <td>25964.0</td>\n",
       "      <td>26507.0</td>\n",
       "      <td>27249.0</td>\n",
       "      <td>1800.0</td>\n",
       "      <td>0.0</td>\n",
       "      <td>928.0</td>\n",
       "      <td>960.0</td>\n",
       "      <td>1181.0</td>\n",
       "      <td>967.0</td>\n",
       "    </tr>\n",
       "    <tr>\n",
       "      <th>791</th>\n",
       "      <td>70000.0</td>\n",
       "      <td>1</td>\n",
       "      <td>1</td>\n",
       "      <td>2</td>\n",
       "      <td>27</td>\n",
       "      <td>1</td>\n",
       "      <td>-1</td>\n",
       "      <td>-1</td>\n",
       "      <td>-1</td>\n",
       "      <td>-2</td>\n",
       "      <td>...</td>\n",
       "      <td>19.0</td>\n",
       "      <td>-254.0</td>\n",
       "      <td>-527.0</td>\n",
       "      <td>1096.0</td>\n",
       "      <td>600.0</td>\n",
       "      <td>19.0</td>\n",
       "      <td>0.0</td>\n",
       "      <td>0.0</td>\n",
       "      <td>1896.0</td>\n",
       "      <td>0.0</td>\n",
       "    </tr>\n",
       "    <tr>\n",
       "      <th>792</th>\n",
       "      <td>410000.0</td>\n",
       "      <td>1</td>\n",
       "      <td>1</td>\n",
       "      <td>2</td>\n",
       "      <td>32</td>\n",
       "      <td>-1</td>\n",
       "      <td>-1</td>\n",
       "      <td>-1</td>\n",
       "      <td>-2</td>\n",
       "      <td>-2</td>\n",
       "      <td>...</td>\n",
       "      <td>-281.0</td>\n",
       "      <td>-281.0</td>\n",
       "      <td>-281.0</td>\n",
       "      <td>-281.0</td>\n",
       "      <td>5400.0</td>\n",
       "      <td>0.0</td>\n",
       "      <td>0.0</td>\n",
       "      <td>0.0</td>\n",
       "      <td>0.0</td>\n",
       "      <td>0.0</td>\n",
       "    </tr>\n",
       "    <tr>\n",
       "      <th>793</th>\n",
       "      <td>280000.0</td>\n",
       "      <td>2</td>\n",
       "      <td>3</td>\n",
       "      <td>1</td>\n",
       "      <td>40</td>\n",
       "      <td>1</td>\n",
       "      <td>-2</td>\n",
       "      <td>-2</td>\n",
       "      <td>-2</td>\n",
       "      <td>-2</td>\n",
       "      <td>...</td>\n",
       "      <td>-288.0</td>\n",
       "      <td>-288.0</td>\n",
       "      <td>-288.0</td>\n",
       "      <td>2124.0</td>\n",
       "      <td>0.0</td>\n",
       "      <td>0.0</td>\n",
       "      <td>0.0</td>\n",
       "      <td>0.0</td>\n",
       "      <td>2412.0</td>\n",
       "      <td>0.0</td>\n",
       "    </tr>\n",
       "    <tr>\n",
       "      <th>794</th>\n",
       "      <td>50000.0</td>\n",
       "      <td>2</td>\n",
       "      <td>1</td>\n",
       "      <td>1</td>\n",
       "      <td>34</td>\n",
       "      <td>0</td>\n",
       "      <td>0</td>\n",
       "      <td>0</td>\n",
       "      <td>0</td>\n",
       "      <td>0</td>\n",
       "      <td>...</td>\n",
       "      <td>48282.0</td>\n",
       "      <td>18299.0</td>\n",
       "      <td>19323.0</td>\n",
       "      <td>20329.0</td>\n",
       "      <td>2320.0</td>\n",
       "      <td>1282.0</td>\n",
       "      <td>3299.0</td>\n",
       "      <td>1323.0</td>\n",
       "      <td>1329.0</td>\n",
       "      <td>1114.0</td>\n",
       "    </tr>\n",
       "    <tr>\n",
       "      <th>795</th>\n",
       "      <td>100000.0</td>\n",
       "      <td>2</td>\n",
       "      <td>2</td>\n",
       "      <td>1</td>\n",
       "      <td>30</td>\n",
       "      <td>0</td>\n",
       "      <td>0</td>\n",
       "      <td>0</td>\n",
       "      <td>0</td>\n",
       "      <td>0</td>\n",
       "      <td>...</td>\n",
       "      <td>75004.0</td>\n",
       "      <td>76705.0</td>\n",
       "      <td>78168.0</td>\n",
       "      <td>80347.0</td>\n",
       "      <td>2800.0</td>\n",
       "      <td>2700.0</td>\n",
       "      <td>5400.0</td>\n",
       "      <td>3500.0</td>\n",
       "      <td>3500.0</td>\n",
       "      <td>3200.0</td>\n",
       "    </tr>\n",
       "    <tr>\n",
       "      <th>796</th>\n",
       "      <td>230000.0</td>\n",
       "      <td>2</td>\n",
       "      <td>1</td>\n",
       "      <td>2</td>\n",
       "      <td>29</td>\n",
       "      <td>-2</td>\n",
       "      <td>-2</td>\n",
       "      <td>-2</td>\n",
       "      <td>-2</td>\n",
       "      <td>-2</td>\n",
       "      <td>...</td>\n",
       "      <td>0.0</td>\n",
       "      <td>0.0</td>\n",
       "      <td>0.0</td>\n",
       "      <td>0.0</td>\n",
       "      <td>0.0</td>\n",
       "      <td>0.0</td>\n",
       "      <td>0.0</td>\n",
       "      <td>0.0</td>\n",
       "      <td>0.0</td>\n",
       "      <td>0.0</td>\n",
       "    </tr>\n",
       "    <tr>\n",
       "      <th>797</th>\n",
       "      <td>50000.0</td>\n",
       "      <td>2</td>\n",
       "      <td>1</td>\n",
       "      <td>2</td>\n",
       "      <td>22</td>\n",
       "      <td>0</td>\n",
       "      <td>0</td>\n",
       "      <td>0</td>\n",
       "      <td>-1</td>\n",
       "      <td>-1</td>\n",
       "      <td>...</td>\n",
       "      <td>5385.0</td>\n",
       "      <td>7781.0</td>\n",
       "      <td>0.0</td>\n",
       "      <td>0.0</td>\n",
       "      <td>1372.0</td>\n",
       "      <td>1275.0</td>\n",
       "      <td>7900.0</td>\n",
       "      <td>0.0</td>\n",
       "      <td>0.0</td>\n",
       "      <td>0.0</td>\n",
       "    </tr>\n",
       "    <tr>\n",
       "      <th>798</th>\n",
       "      <td>100000.0</td>\n",
       "      <td>2</td>\n",
       "      <td>1</td>\n",
       "      <td>2</td>\n",
       "      <td>48</td>\n",
       "      <td>2</td>\n",
       "      <td>2</td>\n",
       "      <td>2</td>\n",
       "      <td>2</td>\n",
       "      <td>2</td>\n",
       "      <td>...</td>\n",
       "      <td>18158.0</td>\n",
       "      <td>18365.0</td>\n",
       "      <td>17932.0</td>\n",
       "      <td>18147.0</td>\n",
       "      <td>3164.0</td>\n",
       "      <td>800.0</td>\n",
       "      <td>800.0</td>\n",
       "      <td>0.0</td>\n",
       "      <td>662.0</td>\n",
       "      <td>3000.0</td>\n",
       "    </tr>\n",
       "    <tr>\n",
       "      <th>799</th>\n",
       "      <td>210000.0</td>\n",
       "      <td>2</td>\n",
       "      <td>2</td>\n",
       "      <td>1</td>\n",
       "      <td>35</td>\n",
       "      <td>0</td>\n",
       "      <td>0</td>\n",
       "      <td>0</td>\n",
       "      <td>0</td>\n",
       "      <td>0</td>\n",
       "      <td>...</td>\n",
       "      <td>34232.0</td>\n",
       "      <td>32331.0</td>\n",
       "      <td>30337.0</td>\n",
       "      <td>28012.0</td>\n",
       "      <td>2000.0</td>\n",
       "      <td>2000.0</td>\n",
       "      <td>2444.0</td>\n",
       "      <td>1342.0</td>\n",
       "      <td>1038.0</td>\n",
       "      <td>2000.0</td>\n",
       "    </tr>\n",
       "  </tbody>\n",
       "</table>\n",
       "<p>10 rows × 23 columns</p>\n",
       "</div>"
      ],
      "text/plain": [
       "     LIMIT_BAL  SEX  EDUCATION  MARRIAGE  AGE  PAY_0  PAY_2  PAY_3  PAY_4  \\\n",
       "790    30000.0    2          2         2   51      1      2      2      0   \n",
       "791    70000.0    1          1         2   27      1     -1     -1     -1   \n",
       "792   410000.0    1          1         2   32     -1     -1     -1     -2   \n",
       "793   280000.0    2          3         1   40      1     -2     -2     -2   \n",
       "794    50000.0    2          1         1   34      0      0      0      0   \n",
       "795   100000.0    2          2         1   30      0      0      0      0   \n",
       "796   230000.0    2          1         2   29     -2     -2     -2     -2   \n",
       "797    50000.0    2          1         2   22      0      0      0     -1   \n",
       "798   100000.0    2          1         2   48      2      2      2      2   \n",
       "799   210000.0    2          2         1   35      0      0      0      0   \n",
       "\n",
       "     PAY_5  ...  BILL_AMT3  BILL_AMT4  BILL_AMT5  BILL_AMT6  PAY_AMT1  \\\n",
       "790      0  ...    25761.0    25964.0    26507.0    27249.0    1800.0   \n",
       "791     -2  ...       19.0     -254.0     -527.0     1096.0     600.0   \n",
       "792     -2  ...     -281.0     -281.0     -281.0     -281.0    5400.0   \n",
       "793     -2  ...     -288.0     -288.0     -288.0     2124.0       0.0   \n",
       "794      0  ...    48282.0    18299.0    19323.0    20329.0    2320.0   \n",
       "795      0  ...    75004.0    76705.0    78168.0    80347.0    2800.0   \n",
       "796     -2  ...        0.0        0.0        0.0        0.0       0.0   \n",
       "797     -1  ...     5385.0     7781.0        0.0        0.0    1372.0   \n",
       "798      2  ...    18158.0    18365.0    17932.0    18147.0    3164.0   \n",
       "799      0  ...    34232.0    32331.0    30337.0    28012.0    2000.0   \n",
       "\n",
       "     PAY_AMT2  PAY_AMT3  PAY_AMT4  PAY_AMT5  PAY_AMT6  \n",
       "790       0.0     928.0     960.0    1181.0     967.0  \n",
       "791      19.0       0.0       0.0    1896.0       0.0  \n",
       "792       0.0       0.0       0.0       0.0       0.0  \n",
       "793       0.0       0.0       0.0    2412.0       0.0  \n",
       "794    1282.0    3299.0    1323.0    1329.0    1114.0  \n",
       "795    2700.0    5400.0    3500.0    3500.0    3200.0  \n",
       "796       0.0       0.0       0.0       0.0       0.0  \n",
       "797    1275.0    7900.0       0.0       0.0       0.0  \n",
       "798     800.0     800.0       0.0     662.0    3000.0  \n",
       "799    2000.0    2444.0    1342.0    1038.0    2000.0  \n",
       "\n",
       "[10 rows x 23 columns]"
      ]
     },
     "execution_count": 4,
     "metadata": {},
     "output_type": "execute_result"
    }
   ],
   "source": [
    "x.iloc[790:800]"
   ]
  },
  {
   "cell_type": "code",
   "execution_count": 5,
   "id": "2a27a3f6",
   "metadata": {},
   "outputs": [
    {
     "data": {
      "text/plain": [
       "Index(['LIMIT_BAL', 'SEX', 'EDUCATION', 'MARRIAGE', 'AGE', 'PAY_0', 'PAY_2',\n",
       "       'PAY_3', 'PAY_4', 'PAY_5', 'PAY_6', 'BILL_AMT1', 'BILL_AMT2',\n",
       "       'BILL_AMT3', 'BILL_AMT4', 'BILL_AMT5', 'BILL_AMT6', 'PAY_AMT1',\n",
       "       'PAY_AMT2', 'PAY_AMT3', 'PAY_AMT4', 'PAY_AMT5', 'PAY_AMT6'],\n",
       "      dtype='object')"
      ]
     },
     "execution_count": 5,
     "metadata": {},
     "output_type": "execute_result"
    }
   ],
   "source": [
    "x.columns"
   ]
  },
  {
   "cell_type": "code",
   "execution_count": 6,
   "id": "102c5e38",
   "metadata": {},
   "outputs": [
    {
     "data": {
      "text/plain": [
       "0    1\n",
       "1    1\n",
       "2    0\n",
       "3    0\n",
       "4    0\n",
       "Name: default.payment.next.month, dtype: int64"
      ]
     },
     "execution_count": 6,
     "metadata": {},
     "output_type": "execute_result"
    }
   ],
   "source": [
    "y = data['default.payment.next.month']\n",
    "y.head()"
   ]
  },
  {
   "cell_type": "code",
   "execution_count": 7,
   "id": "31ea24df",
   "metadata": {},
   "outputs": [],
   "source": [
    "# spliting data into train and test\n",
    "x_train,x_test,y_train,y_test = train_test_split(x,y,test_size=0.20,random_state=100)"
   ]
  },
  {
   "cell_type": "code",
   "execution_count": 8,
   "id": "46ed38b8",
   "metadata": {},
   "outputs": [
    {
     "data": {
      "text/html": [
       "<div>\n",
       "<style scoped>\n",
       "    .dataframe tbody tr th:only-of-type {\n",
       "        vertical-align: middle;\n",
       "    }\n",
       "\n",
       "    .dataframe tbody tr th {\n",
       "        vertical-align: top;\n",
       "    }\n",
       "\n",
       "    .dataframe thead th {\n",
       "        text-align: right;\n",
       "    }\n",
       "</style>\n",
       "<table border=\"1\" class=\"dataframe\">\n",
       "  <thead>\n",
       "    <tr style=\"text-align: right;\">\n",
       "      <th></th>\n",
       "      <th>LIMIT_BAL</th>\n",
       "      <th>SEX</th>\n",
       "      <th>EDUCATION</th>\n",
       "      <th>MARRIAGE</th>\n",
       "      <th>AGE</th>\n",
       "      <th>PAY_0</th>\n",
       "      <th>PAY_2</th>\n",
       "      <th>PAY_3</th>\n",
       "      <th>PAY_4</th>\n",
       "      <th>PAY_5</th>\n",
       "      <th>...</th>\n",
       "      <th>BILL_AMT3</th>\n",
       "      <th>BILL_AMT4</th>\n",
       "      <th>BILL_AMT5</th>\n",
       "      <th>BILL_AMT6</th>\n",
       "      <th>PAY_AMT1</th>\n",
       "      <th>PAY_AMT2</th>\n",
       "      <th>PAY_AMT3</th>\n",
       "      <th>PAY_AMT4</th>\n",
       "      <th>PAY_AMT5</th>\n",
       "      <th>PAY_AMT6</th>\n",
       "    </tr>\n",
       "  </thead>\n",
       "  <tbody>\n",
       "    <tr>\n",
       "      <th>795</th>\n",
       "      <td>100000.0</td>\n",
       "      <td>2</td>\n",
       "      <td>2</td>\n",
       "      <td>1</td>\n",
       "      <td>30</td>\n",
       "      <td>0</td>\n",
       "      <td>0</td>\n",
       "      <td>0</td>\n",
       "      <td>0</td>\n",
       "      <td>0</td>\n",
       "      <td>...</td>\n",
       "      <td>75004.0</td>\n",
       "      <td>76705.0</td>\n",
       "      <td>78168.0</td>\n",
       "      <td>80347.0</td>\n",
       "      <td>2800.0</td>\n",
       "      <td>2700.0</td>\n",
       "      <td>5400.0</td>\n",
       "      <td>3500.0</td>\n",
       "      <td>3500.0</td>\n",
       "      <td>3200.0</td>\n",
       "    </tr>\n",
       "    <tr>\n",
       "      <th>23652</th>\n",
       "      <td>20000.0</td>\n",
       "      <td>2</td>\n",
       "      <td>1</td>\n",
       "      <td>1</td>\n",
       "      <td>37</td>\n",
       "      <td>1</td>\n",
       "      <td>-2</td>\n",
       "      <td>-1</td>\n",
       "      <td>2</td>\n",
       "      <td>2</td>\n",
       "      <td>...</td>\n",
       "      <td>10887.0</td>\n",
       "      <td>10413.0</td>\n",
       "      <td>-245.0</td>\n",
       "      <td>-245.0</td>\n",
       "      <td>1575.0</td>\n",
       "      <td>11000.0</td>\n",
       "      <td>0.0</td>\n",
       "      <td>0.0</td>\n",
       "      <td>0.0</td>\n",
       "      <td>5100.0</td>\n",
       "    </tr>\n",
       "    <tr>\n",
       "      <th>9038</th>\n",
       "      <td>160000.0</td>\n",
       "      <td>2</td>\n",
       "      <td>2</td>\n",
       "      <td>1</td>\n",
       "      <td>31</td>\n",
       "      <td>0</td>\n",
       "      <td>0</td>\n",
       "      <td>0</td>\n",
       "      <td>0</td>\n",
       "      <td>0</td>\n",
       "      <td>...</td>\n",
       "      <td>76660.0</td>\n",
       "      <td>79825.0</td>\n",
       "      <td>82951.0</td>\n",
       "      <td>85168.0</td>\n",
       "      <td>5000.0</td>\n",
       "      <td>10000.0</td>\n",
       "      <td>5000.0</td>\n",
       "      <td>5000.0</td>\n",
       "      <td>4000.0</td>\n",
       "      <td>4000.0</td>\n",
       "    </tr>\n",
       "    <tr>\n",
       "      <th>11588</th>\n",
       "      <td>280000.0</td>\n",
       "      <td>1</td>\n",
       "      <td>2</td>\n",
       "      <td>2</td>\n",
       "      <td>30</td>\n",
       "      <td>-1</td>\n",
       "      <td>-1</td>\n",
       "      <td>-1</td>\n",
       "      <td>-1</td>\n",
       "      <td>-1</td>\n",
       "      <td>...</td>\n",
       "      <td>651.0</td>\n",
       "      <td>651.0</td>\n",
       "      <td>651.0</td>\n",
       "      <td>651.0</td>\n",
       "      <td>1650.0</td>\n",
       "      <td>651.0</td>\n",
       "      <td>651.0</td>\n",
       "      <td>651.0</td>\n",
       "      <td>651.0</td>\n",
       "      <td>0.0</td>\n",
       "    </tr>\n",
       "    <tr>\n",
       "      <th>7422</th>\n",
       "      <td>60000.0</td>\n",
       "      <td>2</td>\n",
       "      <td>1</td>\n",
       "      <td>2</td>\n",
       "      <td>25</td>\n",
       "      <td>0</td>\n",
       "      <td>0</td>\n",
       "      <td>0</td>\n",
       "      <td>2</td>\n",
       "      <td>2</td>\n",
       "      <td>...</td>\n",
       "      <td>27050.0</td>\n",
       "      <td>26317.0</td>\n",
       "      <td>28200.0</td>\n",
       "      <td>28762.0</td>\n",
       "      <td>1414.0</td>\n",
       "      <td>2678.0</td>\n",
       "      <td>0.0</td>\n",
       "      <td>2310.0</td>\n",
       "      <td>1173.0</td>\n",
       "      <td>0.0</td>\n",
       "    </tr>\n",
       "    <tr>\n",
       "      <th>...</th>\n",
       "      <td>...</td>\n",
       "      <td>...</td>\n",
       "      <td>...</td>\n",
       "      <td>...</td>\n",
       "      <td>...</td>\n",
       "      <td>...</td>\n",
       "      <td>...</td>\n",
       "      <td>...</td>\n",
       "      <td>...</td>\n",
       "      <td>...</td>\n",
       "      <td>...</td>\n",
       "      <td>...</td>\n",
       "      <td>...</td>\n",
       "      <td>...</td>\n",
       "      <td>...</td>\n",
       "      <td>...</td>\n",
       "      <td>...</td>\n",
       "      <td>...</td>\n",
       "      <td>...</td>\n",
       "      <td>...</td>\n",
       "      <td>...</td>\n",
       "    </tr>\n",
       "    <tr>\n",
       "      <th>12119</th>\n",
       "      <td>20000.0</td>\n",
       "      <td>2</td>\n",
       "      <td>1</td>\n",
       "      <td>2</td>\n",
       "      <td>22</td>\n",
       "      <td>1</td>\n",
       "      <td>2</td>\n",
       "      <td>2</td>\n",
       "      <td>0</td>\n",
       "      <td>0</td>\n",
       "      <td>...</td>\n",
       "      <td>11164.0</td>\n",
       "      <td>11395.0</td>\n",
       "      <td>11927.0</td>\n",
       "      <td>9186.0</td>\n",
       "      <td>1100.0</td>\n",
       "      <td>0.0</td>\n",
       "      <td>289.0</td>\n",
       "      <td>594.0</td>\n",
       "      <td>0.0</td>\n",
       "      <td>50.0</td>\n",
       "    </tr>\n",
       "    <tr>\n",
       "      <th>24423</th>\n",
       "      <td>10000.0</td>\n",
       "      <td>1</td>\n",
       "      <td>2</td>\n",
       "      <td>1</td>\n",
       "      <td>36</td>\n",
       "      <td>2</td>\n",
       "      <td>0</td>\n",
       "      <td>0</td>\n",
       "      <td>0</td>\n",
       "      <td>0</td>\n",
       "      <td>...</td>\n",
       "      <td>9582.0</td>\n",
       "      <td>8986.0</td>\n",
       "      <td>9691.0</td>\n",
       "      <td>9889.0</td>\n",
       "      <td>2000.0</td>\n",
       "      <td>1300.0</td>\n",
       "      <td>1200.0</td>\n",
       "      <td>1000.0</td>\n",
       "      <td>1000.0</td>\n",
       "      <td>569.0</td>\n",
       "    </tr>\n",
       "    <tr>\n",
       "      <th>14147</th>\n",
       "      <td>100000.0</td>\n",
       "      <td>2</td>\n",
       "      <td>2</td>\n",
       "      <td>2</td>\n",
       "      <td>27</td>\n",
       "      <td>0</td>\n",
       "      <td>0</td>\n",
       "      <td>0</td>\n",
       "      <td>0</td>\n",
       "      <td>0</td>\n",
       "      <td>...</td>\n",
       "      <td>90357.0</td>\n",
       "      <td>89209.0</td>\n",
       "      <td>84983.0</td>\n",
       "      <td>81484.0</td>\n",
       "      <td>4171.0</td>\n",
       "      <td>4044.0</td>\n",
       "      <td>3420.0</td>\n",
       "      <td>3300.0</td>\n",
       "      <td>3886.0</td>\n",
       "      <td>2730.0</td>\n",
       "    </tr>\n",
       "    <tr>\n",
       "      <th>23320</th>\n",
       "      <td>80000.0</td>\n",
       "      <td>2</td>\n",
       "      <td>1</td>\n",
       "      <td>1</td>\n",
       "      <td>29</td>\n",
       "      <td>-1</td>\n",
       "      <td>-1</td>\n",
       "      <td>-1</td>\n",
       "      <td>-1</td>\n",
       "      <td>0</td>\n",
       "      <td>...</td>\n",
       "      <td>1872.0</td>\n",
       "      <td>746.0</td>\n",
       "      <td>746.0</td>\n",
       "      <td>4424.0</td>\n",
       "      <td>358.0</td>\n",
       "      <td>1872.0</td>\n",
       "      <td>746.0</td>\n",
       "      <td>0.0</td>\n",
       "      <td>4424.0</td>\n",
       "      <td>0.0</td>\n",
       "    </tr>\n",
       "    <tr>\n",
       "      <th>5640</th>\n",
       "      <td>210000.0</td>\n",
       "      <td>1</td>\n",
       "      <td>2</td>\n",
       "      <td>2</td>\n",
       "      <td>34</td>\n",
       "      <td>0</td>\n",
       "      <td>0</td>\n",
       "      <td>0</td>\n",
       "      <td>0</td>\n",
       "      <td>-1</td>\n",
       "      <td>...</td>\n",
       "      <td>41616.0</td>\n",
       "      <td>34833.0</td>\n",
       "      <td>17628.0</td>\n",
       "      <td>2400.0</td>\n",
       "      <td>1995.0</td>\n",
       "      <td>21067.0</td>\n",
       "      <td>14492.0</td>\n",
       "      <td>17680.0</td>\n",
       "      <td>2407.0</td>\n",
       "      <td>497.0</td>\n",
       "    </tr>\n",
       "  </tbody>\n",
       "</table>\n",
       "<p>24000 rows × 23 columns</p>\n",
       "</div>"
      ],
      "text/plain": [
       "       LIMIT_BAL  SEX  EDUCATION  MARRIAGE  AGE  PAY_0  PAY_2  PAY_3  PAY_4  \\\n",
       "795     100000.0    2          2         1   30      0      0      0      0   \n",
       "23652    20000.0    2          1         1   37      1     -2     -1      2   \n",
       "9038    160000.0    2          2         1   31      0      0      0      0   \n",
       "11588   280000.0    1          2         2   30     -1     -1     -1     -1   \n",
       "7422     60000.0    2          1         2   25      0      0      0      2   \n",
       "...          ...  ...        ...       ...  ...    ...    ...    ...    ...   \n",
       "12119    20000.0    2          1         2   22      1      2      2      0   \n",
       "24423    10000.0    1          2         1   36      2      0      0      0   \n",
       "14147   100000.0    2          2         2   27      0      0      0      0   \n",
       "23320    80000.0    2          1         1   29     -1     -1     -1     -1   \n",
       "5640    210000.0    1          2         2   34      0      0      0      0   \n",
       "\n",
       "       PAY_5  ...  BILL_AMT3  BILL_AMT4  BILL_AMT5  BILL_AMT6  PAY_AMT1  \\\n",
       "795        0  ...    75004.0    76705.0    78168.0    80347.0    2800.0   \n",
       "23652      2  ...    10887.0    10413.0     -245.0     -245.0    1575.0   \n",
       "9038       0  ...    76660.0    79825.0    82951.0    85168.0    5000.0   \n",
       "11588     -1  ...      651.0      651.0      651.0      651.0    1650.0   \n",
       "7422       2  ...    27050.0    26317.0    28200.0    28762.0    1414.0   \n",
       "...      ...  ...        ...        ...        ...        ...       ...   \n",
       "12119      0  ...    11164.0    11395.0    11927.0     9186.0    1100.0   \n",
       "24423      0  ...     9582.0     8986.0     9691.0     9889.0    2000.0   \n",
       "14147      0  ...    90357.0    89209.0    84983.0    81484.0    4171.0   \n",
       "23320      0  ...     1872.0      746.0      746.0     4424.0     358.0   \n",
       "5640      -1  ...    41616.0    34833.0    17628.0     2400.0    1995.0   \n",
       "\n",
       "       PAY_AMT2  PAY_AMT3  PAY_AMT4  PAY_AMT5  PAY_AMT6  \n",
       "795      2700.0    5400.0    3500.0    3500.0    3200.0  \n",
       "23652   11000.0       0.0       0.0       0.0    5100.0  \n",
       "9038    10000.0    5000.0    5000.0    4000.0    4000.0  \n",
       "11588     651.0     651.0     651.0     651.0       0.0  \n",
       "7422     2678.0       0.0    2310.0    1173.0       0.0  \n",
       "...         ...       ...       ...       ...       ...  \n",
       "12119       0.0     289.0     594.0       0.0      50.0  \n",
       "24423    1300.0    1200.0    1000.0    1000.0     569.0  \n",
       "14147    4044.0    3420.0    3300.0    3886.0    2730.0  \n",
       "23320    1872.0     746.0       0.0    4424.0       0.0  \n",
       "5640    21067.0   14492.0   17680.0    2407.0     497.0  \n",
       "\n",
       "[24000 rows x 23 columns]"
      ]
     },
     "execution_count": 8,
     "metadata": {},
     "output_type": "execute_result"
    }
   ],
   "source": [
    "x_train"
   ]
  },
  {
   "cell_type": "code",
   "execution_count": 9,
   "id": "6f8de903",
   "metadata": {},
   "outputs": [
    {
     "data": {
      "text/plain": [
       "(24000, 23)"
      ]
     },
     "execution_count": 9,
     "metadata": {},
     "output_type": "execute_result"
    }
   ],
   "source": [
    "x_train.shape"
   ]
  },
  {
   "cell_type": "code",
   "execution_count": 10,
   "id": "85e184ea",
   "metadata": {},
   "outputs": [
    {
     "data": {
      "text/plain": [
       "(24000,)"
      ]
     },
     "execution_count": 10,
     "metadata": {},
     "output_type": "execute_result"
    }
   ],
   "source": [
    "y_train.shape"
   ]
  },
  {
   "cell_type": "code",
   "execution_count": 11,
   "id": "0710d297",
   "metadata": {},
   "outputs": [
    {
     "data": {
      "text/plain": [
       "(6000, 23)"
      ]
     },
     "execution_count": 11,
     "metadata": {},
     "output_type": "execute_result"
    }
   ],
   "source": [
    "x_test.shape"
   ]
  },
  {
   "cell_type": "code",
   "execution_count": 12,
   "id": "3dca81c3",
   "metadata": {},
   "outputs": [
    {
     "data": {
      "text/plain": [
       "(6000,)"
      ]
     },
     "execution_count": 12,
     "metadata": {},
     "output_type": "execute_result"
    }
   ],
   "source": [
    "y_test.shape"
   ]
  },
  {
   "cell_type": "code",
   "execution_count": 13,
   "id": "98e99f65",
   "metadata": {},
   "outputs": [],
   "source": [
    "# Initializing standard scaler object\n",
    "train_scaler = StandardScaler()\n",
    "test_scaler = StandardScaler()"
   ]
  },
  {
   "cell_type": "code",
   "execution_count": 14,
   "id": "c43ed830",
   "metadata": {},
   "outputs": [],
   "source": [
    "scaler=train_scaler.fit(x_train)"
   ]
  },
  {
   "cell_type": "code",
   "execution_count": 15,
   "id": "30b56e49",
   "metadata": {},
   "outputs": [],
   "source": [
    "pickle.dump(train_scaler, open('models/scaler/scaler.sav', 'wb'))"
   ]
  },
  {
   "cell_type": "code",
   "execution_count": 16,
   "id": "32aa2fd5",
   "metadata": {},
   "outputs": [],
   "source": [
    "scaled_train_data=scaler.transform(x_train)\n",
    "scaled_test_data=test_scaler.fit_transform(x_test)"
   ]
  },
  {
   "cell_type": "code",
   "execution_count": 17,
   "id": "540a7420",
   "metadata": {},
   "outputs": [
    {
     "name": "stderr",
     "output_type": "stream",
     "text": [
      "/home/swapnil/anaconda3/envs/project/lib/python3.9/site-packages/sklearn/base.py:450: UserWarning: X does not have valid feature names, but StandardScaler was fitted with feature names\n",
      "  warnings.warn(\n"
     ]
    },
    {
     "data": {
      "text/plain": [
       "array([[-0.52121838,  0.80949773,  0.18492014, -1.05575343, -0.5959469 ,\n",
       "         0.01872585,  0.11662224,  0.14377102,  0.19721976,  0.24377449,\n",
       "         0.26145029,  0.61818495,  0.34982064,  0.40094891,  0.51503605,\n",
       "         0.6207635 ,  0.6904972 , -0.16840884, -0.13341025,  0.00879938,\n",
       "        -0.08241696, -0.08868622, -0.11518792]])"
      ]
     },
     "execution_count": 17,
     "metadata": {},
     "output_type": "execute_result"
    }
   ],
   "source": [
    "scaler.transform([[100000,2,2,1,30,0,0,0,0,0,0,97062,74352,75004,76705,78168,80347,2800,2700,5400,3500,3500,3200]])"
   ]
  },
  {
   "cell_type": "code",
   "execution_count": 18,
   "id": "77a93e5b",
   "metadata": {},
   "outputs": [],
   "source": [
    "scaled_train_df=pd.DataFrame(data=scaled_train_data, columns=x_train.columns)"
   ]
  },
  {
   "cell_type": "code",
   "execution_count": 19,
   "id": "b5f20069",
   "metadata": {},
   "outputs": [],
   "source": [
    "scaled_test_df=pd.DataFrame(data=scaled_test_data, columns=x_test.columns, index=x_test.index)"
   ]
  },
  {
   "cell_type": "code",
   "execution_count": 20,
   "id": "c8c0d93e",
   "metadata": {},
   "outputs": [
    {
     "data": {
      "text/plain": [
       "LIMIT_BAL   -0.521218\n",
       "SEX          0.809498\n",
       "EDUCATION    0.184920\n",
       "MARRIAGE    -1.055753\n",
       "AGE         -0.595947\n",
       "PAY_0        0.018726\n",
       "PAY_2        0.116622\n",
       "PAY_3        0.143771\n",
       "PAY_4        0.197220\n",
       "PAY_5        0.243774\n",
       "PAY_6        0.261450\n",
       "BILL_AMT1    0.618185\n",
       "BILL_AMT2    0.349821\n",
       "BILL_AMT3    0.400949\n",
       "BILL_AMT4    0.515036\n",
       "BILL_AMT5    0.620763\n",
       "BILL_AMT6    0.690497\n",
       "PAY_AMT1    -0.168409\n",
       "PAY_AMT2    -0.133410\n",
       "PAY_AMT3     0.008799\n",
       "PAY_AMT4    -0.082417\n",
       "PAY_AMT5    -0.088686\n",
       "PAY_AMT6    -0.115188\n",
       "Name: 0, dtype: float64"
      ]
     },
     "execution_count": 20,
     "metadata": {},
     "output_type": "execute_result"
    }
   ],
   "source": [
    "scaled_train_df.iloc[0]"
   ]
  },
  {
   "cell_type": "code",
   "execution_count": 21,
   "id": "577304a5",
   "metadata": {
    "scrolled": true
   },
   "outputs": [
    {
     "data": {
      "text/html": [
       "<div>\n",
       "<style scoped>\n",
       "    .dataframe tbody tr th:only-of-type {\n",
       "        vertical-align: middle;\n",
       "    }\n",
       "\n",
       "    .dataframe tbody tr th {\n",
       "        vertical-align: top;\n",
       "    }\n",
       "\n",
       "    .dataframe thead th {\n",
       "        text-align: right;\n",
       "    }\n",
       "</style>\n",
       "<table border=\"1\" class=\"dataframe\">\n",
       "  <thead>\n",
       "    <tr style=\"text-align: right;\">\n",
       "      <th></th>\n",
       "      <th>LIMIT_BAL</th>\n",
       "      <th>SEX</th>\n",
       "      <th>EDUCATION</th>\n",
       "      <th>MARRIAGE</th>\n",
       "      <th>AGE</th>\n",
       "      <th>PAY_0</th>\n",
       "      <th>PAY_2</th>\n",
       "      <th>PAY_3</th>\n",
       "      <th>PAY_4</th>\n",
       "      <th>PAY_5</th>\n",
       "      <th>...</th>\n",
       "      <th>BILL_AMT3</th>\n",
       "      <th>BILL_AMT4</th>\n",
       "      <th>BILL_AMT5</th>\n",
       "      <th>BILL_AMT6</th>\n",
       "      <th>PAY_AMT1</th>\n",
       "      <th>PAY_AMT2</th>\n",
       "      <th>PAY_AMT3</th>\n",
       "      <th>PAY_AMT4</th>\n",
       "      <th>PAY_AMT5</th>\n",
       "      <th>PAY_AMT6</th>\n",
       "    </tr>\n",
       "  </thead>\n",
       "  <tbody>\n",
       "    <tr>\n",
       "      <th>0</th>\n",
       "      <td>-0.521218</td>\n",
       "      <td>0.809498</td>\n",
       "      <td>0.184920</td>\n",
       "      <td>-1.055753</td>\n",
       "      <td>-0.595947</td>\n",
       "      <td>0.018726</td>\n",
       "      <td>0.116622</td>\n",
       "      <td>0.143771</td>\n",
       "      <td>0.197220</td>\n",
       "      <td>0.243774</td>\n",
       "      <td>...</td>\n",
       "      <td>0.400949</td>\n",
       "      <td>0.515036</td>\n",
       "      <td>0.620763</td>\n",
       "      <td>0.690497</td>\n",
       "      <td>-0.168409</td>\n",
       "      <td>-0.133410</td>\n",
       "      <td>0.008799</td>\n",
       "      <td>-0.082417</td>\n",
       "      <td>-0.088686</td>\n",
       "      <td>-0.115188</td>\n",
       "    </tr>\n",
       "    <tr>\n",
       "      <th>1</th>\n",
       "      <td>-1.136449</td>\n",
       "      <td>0.809498</td>\n",
       "      <td>-1.081295</td>\n",
       "      <td>-1.055753</td>\n",
       "      <td>0.160668</td>\n",
       "      <td>0.906908</td>\n",
       "      <td>-1.553386</td>\n",
       "      <td>-0.692918</td>\n",
       "      <td>1.917785</td>\n",
       "      <td>2.019101</td>\n",
       "      <td>...</td>\n",
       "      <td>-0.519449</td>\n",
       "      <td>-0.509328</td>\n",
       "      <td>-0.665178</td>\n",
       "      <td>-0.654181</td>\n",
       "      <td>-0.239433</td>\n",
       "      <td>0.211102</td>\n",
       "      <td>-0.291994</td>\n",
       "      <td>-0.305623</td>\n",
       "      <td>-0.316181</td>\n",
       "      <td>-0.011962</td>\n",
       "    </tr>\n",
       "    <tr>\n",
       "      <th>2</th>\n",
       "      <td>-0.059796</td>\n",
       "      <td>0.809498</td>\n",
       "      <td>0.184920</td>\n",
       "      <td>-1.055753</td>\n",
       "      <td>-0.487859</td>\n",
       "      <td>0.018726</td>\n",
       "      <td>0.116622</td>\n",
       "      <td>0.143771</td>\n",
       "      <td>0.197220</td>\n",
       "      <td>0.243774</td>\n",
       "      <td>...</td>\n",
       "      <td>0.424721</td>\n",
       "      <td>0.563247</td>\n",
       "      <td>0.699203</td>\n",
       "      <td>0.770936</td>\n",
       "      <td>-0.040856</td>\n",
       "      <td>0.169594</td>\n",
       "      <td>-0.013482</td>\n",
       "      <td>0.013243</td>\n",
       "      <td>-0.056187</td>\n",
       "      <td>-0.071724</td>\n",
       "    </tr>\n",
       "    <tr>\n",
       "      <th>3</th>\n",
       "      <td>0.863049</td>\n",
       "      <td>-1.235334</td>\n",
       "      <td>0.184920</td>\n",
       "      <td>0.856555</td>\n",
       "      <td>-0.595947</td>\n",
       "      <td>-0.869457</td>\n",
       "      <td>-0.718382</td>\n",
       "      <td>-0.692918</td>\n",
       "      <td>-0.663063</td>\n",
       "      <td>-0.643889</td>\n",
       "      <td>...</td>\n",
       "      <td>-0.666387</td>\n",
       "      <td>-0.660174</td>\n",
       "      <td>-0.650484</td>\n",
       "      <td>-0.639231</td>\n",
       "      <td>-0.235084</td>\n",
       "      <td>-0.218459</td>\n",
       "      <td>-0.255732</td>\n",
       "      <td>-0.264107</td>\n",
       "      <td>-0.273867</td>\n",
       "      <td>-0.289042</td>\n",
       "    </tr>\n",
       "    <tr>\n",
       "      <th>4</th>\n",
       "      <td>-0.828833</td>\n",
       "      <td>0.809498</td>\n",
       "      <td>-1.081295</td>\n",
       "      <td>0.856555</td>\n",
       "      <td>-1.136386</td>\n",
       "      <td>0.018726</td>\n",
       "      <td>0.116622</td>\n",
       "      <td>0.143771</td>\n",
       "      <td>1.917785</td>\n",
       "      <td>2.019101</td>\n",
       "      <td>...</td>\n",
       "      <td>-0.287430</td>\n",
       "      <td>-0.263575</td>\n",
       "      <td>-0.198691</td>\n",
       "      <td>-0.170199</td>\n",
       "      <td>-0.248767</td>\n",
       "      <td>-0.134323</td>\n",
       "      <td>-0.291994</td>\n",
       "      <td>-0.158307</td>\n",
       "      <td>-0.239937</td>\n",
       "      <td>-0.289042</td>\n",
       "    </tr>\n",
       "  </tbody>\n",
       "</table>\n",
       "<p>5 rows × 23 columns</p>\n",
       "</div>"
      ],
      "text/plain": [
       "   LIMIT_BAL       SEX  EDUCATION  MARRIAGE       AGE     PAY_0     PAY_2  \\\n",
       "0  -0.521218  0.809498   0.184920 -1.055753 -0.595947  0.018726  0.116622   \n",
       "1  -1.136449  0.809498  -1.081295 -1.055753  0.160668  0.906908 -1.553386   \n",
       "2  -0.059796  0.809498   0.184920 -1.055753 -0.487859  0.018726  0.116622   \n",
       "3   0.863049 -1.235334   0.184920  0.856555 -0.595947 -0.869457 -0.718382   \n",
       "4  -0.828833  0.809498  -1.081295  0.856555 -1.136386  0.018726  0.116622   \n",
       "\n",
       "      PAY_3     PAY_4     PAY_5  ...  BILL_AMT3  BILL_AMT4  BILL_AMT5  \\\n",
       "0  0.143771  0.197220  0.243774  ...   0.400949   0.515036   0.620763   \n",
       "1 -0.692918  1.917785  2.019101  ...  -0.519449  -0.509328  -0.665178   \n",
       "2  0.143771  0.197220  0.243774  ...   0.424721   0.563247   0.699203   \n",
       "3 -0.692918 -0.663063 -0.643889  ...  -0.666387  -0.660174  -0.650484   \n",
       "4  0.143771  1.917785  2.019101  ...  -0.287430  -0.263575  -0.198691   \n",
       "\n",
       "   BILL_AMT6  PAY_AMT1  PAY_AMT2  PAY_AMT3  PAY_AMT4  PAY_AMT5  PAY_AMT6  \n",
       "0   0.690497 -0.168409 -0.133410  0.008799 -0.082417 -0.088686 -0.115188  \n",
       "1  -0.654181 -0.239433  0.211102 -0.291994 -0.305623 -0.316181 -0.011962  \n",
       "2   0.770936 -0.040856  0.169594 -0.013482  0.013243 -0.056187 -0.071724  \n",
       "3  -0.639231 -0.235084 -0.218459 -0.255732 -0.264107 -0.273867 -0.289042  \n",
       "4  -0.170199 -0.248767 -0.134323 -0.291994 -0.158307 -0.239937 -0.289042  \n",
       "\n",
       "[5 rows x 23 columns]"
      ]
     },
     "execution_count": 21,
     "metadata": {},
     "output_type": "execute_result"
    }
   ],
   "source": [
    "scaled_train_df.head()"
   ]
  },
  {
   "cell_type": "markdown",
   "id": "4fde7297",
   "metadata": {},
   "source": [
    "## Gaussian Naive-Bayes"
   ]
  },
  {
   "cell_type": "code",
   "execution_count": 22,
   "id": "5ce8a2c2",
   "metadata": {},
   "outputs": [],
   "source": [
    "gnb=GaussianNB()"
   ]
  },
  {
   "cell_type": "code",
   "execution_count": 23,
   "id": "d25a5708",
   "metadata": {},
   "outputs": [
    {
     "data": {
      "text/plain": [
       "GaussianNB()"
      ]
     },
     "execution_count": 23,
     "metadata": {},
     "output_type": "execute_result"
    }
   ],
   "source": [
    "gnb.fit(scaled_train_df,y_train)"
   ]
  },
  {
   "cell_type": "code",
   "execution_count": 24,
   "id": "4fedc66d",
   "metadata": {},
   "outputs": [],
   "source": [
    "gnbPred_y = gnb.predict(scaled_test_df)"
   ]
  },
  {
   "cell_type": "code",
   "execution_count": 25,
   "id": "27c15f68",
   "metadata": {},
   "outputs": [
    {
     "data": {
      "text/plain": [
       "0.752"
      ]
     },
     "execution_count": 25,
     "metadata": {},
     "output_type": "execute_result"
    }
   ],
   "source": [
    "acGNB = accuracy_score(y_test,gnbPred_y)\n",
    "acGNB"
   ]
  },
  {
   "cell_type": "code",
   "execution_count": 26,
   "id": "74fe6ec5",
   "metadata": {},
   "outputs": [],
   "source": [
    "param_grid = {\"var_smoothing\": [1e-9,0.1, 0.001, 0.5,0.05,0.01,1e-8,1e-7,1e-6,1e-10,1e-11]}\n",
    "#Creating an object of the Grid Search class\n",
    "grid = GridSearchCV(estimator=gnb, param_grid=param_grid, cv=5,  verbose=3)"
   ]
  },
  {
   "cell_type": "code",
   "execution_count": 27,
   "id": "0124e14f",
   "metadata": {},
   "outputs": [
    {
     "name": "stdout",
     "output_type": "stream",
     "text": [
      "Fitting 5 folds for each of 11 candidates, totalling 55 fits\n",
      "[CV 1/5] END ...............var_smoothing=1e-09;, score=0.733 total time=   0.0s\n",
      "[CV 2/5] END ...............var_smoothing=1e-09;, score=0.725 total time=   0.0s\n",
      "[CV 3/5] END ...............var_smoothing=1e-09;, score=0.750 total time=   0.0s\n",
      "[CV 4/5] END ...............var_smoothing=1e-09;, score=0.709 total time=   0.0s\n",
      "[CV 5/5] END ...............var_smoothing=1e-09;, score=0.743 total time=   0.0s\n",
      "[CV 1/5] END .................var_smoothing=0.1;, score=0.765 total time=   0.0s\n",
      "[CV 2/5] END .................var_smoothing=0.1;, score=0.766 total time=   0.0s\n",
      "[CV 3/5] END .................var_smoothing=0.1;, score=0.770 total time=   0.0s\n",
      "[CV 4/5] END .................var_smoothing=0.1;, score=0.759 total time=   0.0s\n",
      "[CV 5/5] END .................var_smoothing=0.1;, score=0.774 total time=   0.0s\n",
      "[CV 1/5] END ...............var_smoothing=0.001;, score=0.734 total time=   0.0s\n",
      "[CV 2/5] END ...............var_smoothing=0.001;, score=0.726 total time=   0.0s\n",
      "[CV 3/5] END ...............var_smoothing=0.001;, score=0.751 total time=   0.0s\n",
      "[CV 4/5] END ...............var_smoothing=0.001;, score=0.709 total time=   0.0s\n",
      "[CV 5/5] END ...............var_smoothing=0.001;, score=0.744 total time=   0.0s\n",
      "[CV 1/5] END .................var_smoothing=0.5;, score=0.790 total time=   0.0s\n",
      "[CV 2/5] END .................var_smoothing=0.5;, score=0.791 total time=   0.0s\n",
      "[CV 3/5] END .................var_smoothing=0.5;, score=0.792 total time=   0.0s\n",
      "[CV 4/5] END .................var_smoothing=0.5;, score=0.789 total time=   0.0s\n",
      "[CV 5/5] END .................var_smoothing=0.5;, score=0.794 total time=   0.0s\n",
      "[CV 1/5] END ................var_smoothing=0.05;, score=0.754 total time=   0.0s\n",
      "[CV 2/5] END ................var_smoothing=0.05;, score=0.754 total time=   0.0s\n",
      "[CV 3/5] END ................var_smoothing=0.05;, score=0.764 total time=   0.0s\n",
      "[CV 4/5] END ................var_smoothing=0.05;, score=0.744 total time=   0.0s\n",
      "[CV 5/5] END ................var_smoothing=0.05;, score=0.766 total time=   0.0s\n",
      "[CV 1/5] END ................var_smoothing=0.01;, score=0.736 total time=   0.0s\n",
      "[CV 2/5] END ................var_smoothing=0.01;, score=0.733 total time=   0.0s\n",
      "[CV 3/5] END ................var_smoothing=0.01;, score=0.756 total time=   0.0s\n",
      "[CV 4/5] END ................var_smoothing=0.01;, score=0.718 total time=   0.0s\n",
      "[CV 5/5] END ................var_smoothing=0.01;, score=0.747 total time=   0.0s\n",
      "[CV 1/5] END ...............var_smoothing=1e-08;, score=0.733 total time=   0.0s\n",
      "[CV 2/5] END ...............var_smoothing=1e-08;, score=0.725 total time=   0.0s\n",
      "[CV 3/5] END ...............var_smoothing=1e-08;, score=0.750 total time=   0.0s\n",
      "[CV 4/5] END ...............var_smoothing=1e-08;, score=0.709 total time=   0.0s\n",
      "[CV 5/5] END ...............var_smoothing=1e-08;, score=0.743 total time=   0.0s\n",
      "[CV 1/5] END ...............var_smoothing=1e-07;, score=0.733 total time=   0.0s\n",
      "[CV 2/5] END ...............var_smoothing=1e-07;, score=0.725 total time=   0.0s\n",
      "[CV 3/5] END ...............var_smoothing=1e-07;, score=0.750 total time=   0.0s\n",
      "[CV 4/5] END ...............var_smoothing=1e-07;, score=0.709 total time=   0.0s\n",
      "[CV 5/5] END ...............var_smoothing=1e-07;, score=0.743 total time=   0.0s\n",
      "[CV 1/5] END ...............var_smoothing=1e-06;, score=0.733 total time=   0.0s\n",
      "[CV 2/5] END ...............var_smoothing=1e-06;, score=0.725 total time=   0.0s\n",
      "[CV 3/5] END ...............var_smoothing=1e-06;, score=0.750 total time=   0.0s\n",
      "[CV 4/5] END ...............var_smoothing=1e-06;, score=0.709 total time=   0.0s\n",
      "[CV 5/5] END ...............var_smoothing=1e-06;, score=0.743 total time=   0.0s\n",
      "[CV 1/5] END ...............var_smoothing=1e-10;, score=0.733 total time=   0.0s\n",
      "[CV 2/5] END ...............var_smoothing=1e-10;, score=0.725 total time=   0.0s\n",
      "[CV 3/5] END ...............var_smoothing=1e-10;, score=0.750 total time=   0.0s\n",
      "[CV 4/5] END ...............var_smoothing=1e-10;, score=0.709 total time=   0.0s\n",
      "[CV 5/5] END ...............var_smoothing=1e-10;, score=0.743 total time=   0.0s\n",
      "[CV 1/5] END ...............var_smoothing=1e-11;, score=0.733 total time=   0.0s\n",
      "[CV 2/5] END ...............var_smoothing=1e-11;, score=0.725 total time=   0.0s\n",
      "[CV 3/5] END ...............var_smoothing=1e-11;, score=0.750 total time=   0.0s\n",
      "[CV 4/5] END ...............var_smoothing=1e-11;, score=0.709 total time=   0.0s\n",
      "[CV 5/5] END ...............var_smoothing=1e-11;, score=0.743 total time=   0.0s\n"
     ]
    },
    {
     "data": {
      "text/plain": [
       "GridSearchCV(cv=5, estimator=GaussianNB(),\n",
       "             param_grid={'var_smoothing': [1e-09, 0.1, 0.001, 0.5, 0.05, 0.01,\n",
       "                                           1e-08, 1e-07, 1e-06, 1e-10, 1e-11]},\n",
       "             verbose=3)"
      ]
     },
     "execution_count": 27,
     "metadata": {},
     "output_type": "execute_result"
    }
   ],
   "source": [
    "grid.fit(scaled_train_data,y_train)"
   ]
  },
  {
   "cell_type": "code",
   "execution_count": 28,
   "id": "92690dac",
   "metadata": {},
   "outputs": [
    {
     "data": {
      "text/plain": [
       "GaussianNB(var_smoothing=0.5)"
      ]
     },
     "execution_count": 28,
     "metadata": {},
     "output_type": "execute_result"
    }
   ],
   "source": [
    "grid.best_estimator_"
   ]
  },
  {
   "cell_type": "code",
   "execution_count": 29,
   "id": "7310d81b",
   "metadata": {},
   "outputs": [],
   "source": [
    "# retrianing after hyperparamter tuning\n",
    "gnb_new=GaussianNB(var_smoothing=0.5)"
   ]
  },
  {
   "cell_type": "code",
   "execution_count": 30,
   "id": "ba692246",
   "metadata": {},
   "outputs": [
    {
     "data": {
      "text/plain": [
       "GaussianNB(var_smoothing=0.5)"
      ]
     },
     "execution_count": 30,
     "metadata": {},
     "output_type": "execute_result"
    }
   ],
   "source": [
    "gnb_new.fit(scaled_train_df,y_train)"
   ]
  },
  {
   "cell_type": "code",
   "execution_count": 31,
   "id": "dbcb4cc6",
   "metadata": {},
   "outputs": [],
   "source": [
    "gnbPred_yNew = gnb_new.predict(scaled_test_df)"
   ]
  },
  {
   "cell_type": "code",
   "execution_count": 32,
   "id": "5b7638ea",
   "metadata": {},
   "outputs": [],
   "source": [
    "acGNB_New = accuracy_score(y_test,gnbPred_yNew)"
   ]
  },
  {
   "cell_type": "code",
   "execution_count": 33,
   "id": "2b732ced",
   "metadata": {},
   "outputs": [
    {
     "data": {
      "text/plain": [
       "0.7996666666666666"
      ]
     },
     "execution_count": 33,
     "metadata": {},
     "output_type": "execute_result"
    }
   ],
   "source": [
    "acGNB_New"
   ]
  },
  {
   "cell_type": "markdown",
   "id": "839b6113",
   "metadata": {},
   "source": [
    "## XGBoost"
   ]
  },
  {
   "cell_type": "code",
   "execution_count": 34,
   "id": "7d7b79f9",
   "metadata": {},
   "outputs": [],
   "source": [
    "xb = xgb.XGBClassifier(objective='binary:logistic')"
   ]
  },
  {
   "cell_type": "code",
   "execution_count": 35,
   "id": "973ed176",
   "metadata": {},
   "outputs": [
    {
     "name": "stderr",
     "output_type": "stream",
     "text": [
      "/home/swapnil/anaconda3/envs/project/lib/python3.9/site-packages/xgboost/sklearn.py:1224: UserWarning: The use of label encoder in XGBClassifier is deprecated and will be removed in a future release. To remove this warning, do the following: 1) Pass option use_label_encoder=False when constructing XGBClassifier object; and 2) Encode your labels (y) as integers starting with 0, i.e. 0, 1, 2, ..., [num_class - 1].\n",
      "  warnings.warn(label_encoder_deprecation_msg, UserWarning)\n"
     ]
    },
    {
     "name": "stdout",
     "output_type": "stream",
     "text": [
      "[14:19:07] WARNING: ../src/learner.cc:1115: Starting in XGBoost 1.3.0, the default evaluation metric used with the objective 'binary:logistic' was changed from 'error' to 'logloss'. Explicitly set eval_metric if you'd like to restore the old behavior.\n"
     ]
    },
    {
     "data": {
      "text/plain": [
       "XGBClassifier(base_score=0.5, booster='gbtree', colsample_bylevel=1,\n",
       "              colsample_bynode=1, colsample_bytree=1, enable_categorical=False,\n",
       "              gamma=0, gpu_id=-1, importance_type=None,\n",
       "              interaction_constraints='', learning_rate=0.300000012,\n",
       "              max_delta_step=0, max_depth=6, min_child_weight=1, missing=nan,\n",
       "              monotone_constraints='()', n_estimators=100, n_jobs=8,\n",
       "              num_parallel_tree=1, predictor='auto', random_state=0,\n",
       "              reg_alpha=0, reg_lambda=1, scale_pos_weight=1, subsample=1,\n",
       "              tree_method='exact', validate_parameters=1, verbosity=None)"
      ]
     },
     "execution_count": 35,
     "metadata": {},
     "output_type": "execute_result"
    }
   ],
   "source": [
    "xb.fit(scaled_train_df,y_train)"
   ]
  },
  {
   "cell_type": "code",
   "execution_count": 36,
   "id": "51722b68",
   "metadata": {},
   "outputs": [
    {
     "data": {
      "text/plain": [
       "array([0, 1, 0, ..., 0, 0, 0])"
      ]
     },
     "execution_count": 36,
     "metadata": {},
     "output_type": "execute_result"
    }
   ],
   "source": [
    "xgb_pred = xb.predict(scaled_test_df)\n",
    "xgb_pred"
   ]
  },
  {
   "cell_type": "code",
   "execution_count": 37,
   "id": "7d056109",
   "metadata": {},
   "outputs": [
    {
     "data": {
      "text/plain": [
       "0.8091666666666667"
      ]
     },
     "execution_count": 37,
     "metadata": {},
     "output_type": "execute_result"
    }
   ],
   "source": [
    "ac_xgb = accuracy_score(y_test,xgb_pred)\n",
    "ac_xgb"
   ]
  },
  {
   "cell_type": "code",
   "execution_count": 38,
   "id": "6e3f011a",
   "metadata": {},
   "outputs": [],
   "source": [
    "# param_grid_xgboost = {\n",
    "#     \"n_estimators\": [50,100, 130],\n",
    "#     \"max_depth\": range(3, 11, 1),\n",
    "#     \"random_state\":[0,50,100]\n",
    "# }"
   ]
  },
  {
   "cell_type": "code",
   "execution_count": 39,
   "id": "b6caa590",
   "metadata": {},
   "outputs": [],
   "source": [
    "# grid = GridSearchCV(xb,param_grid_xgboost,verbose=3,n_jobs=-1)"
   ]
  },
  {
   "cell_type": "code",
   "execution_count": 40,
   "id": "9ddde772",
   "metadata": {},
   "outputs": [],
   "source": [
    "# grid.fit(scaled_train_data,y_train)"
   ]
  },
  {
   "cell_type": "code",
   "execution_count": 41,
   "id": "3096c7a0",
   "metadata": {},
   "outputs": [],
   "source": [
    "# grid.best_estimator_"
   ]
  },
  {
   "cell_type": "code",
   "execution_count": 42,
   "id": "0cea44e3",
   "metadata": {},
   "outputs": [],
   "source": [
    "xgb_new = xgb.XGBClassifier(base_score=0.5, booster='gbtree', colsample_bylevel=1,\n",
    "              colsample_bynode=1, colsample_bytree=1,\n",
    "              gamma=0, gpu_id=-1,learning_rate=0.300000012,\n",
    "              max_delta_step=0, max_depth=3, min_child_weight=1, missing=1,\n",
    "              n_estimators=50, n_jobs=8,\n",
    "              num_parallel_tree=1, random_state=0,\n",
    "              reg_alpha=0, reg_lambda=1, scale_pos_weight=1, subsample=1,\n",
    "              tree_method='exact', verbosity=1)"
   ]
  },
  {
   "cell_type": "code",
   "execution_count": 43,
   "id": "88e2e1d1",
   "metadata": {
    "scrolled": true
   },
   "outputs": [
    {
     "name": "stderr",
     "output_type": "stream",
     "text": [
      "/home/swapnil/anaconda3/envs/project/lib/python3.9/site-packages/xgboost/sklearn.py:1224: UserWarning: The use of label encoder in XGBClassifier is deprecated and will be removed in a future release. To remove this warning, do the following: 1) Pass option use_label_encoder=False when constructing XGBClassifier object; and 2) Encode your labels (y) as integers starting with 0, i.e. 0, 1, 2, ..., [num_class - 1].\n",
      "  warnings.warn(label_encoder_deprecation_msg, UserWarning)\n"
     ]
    },
    {
     "name": "stdout",
     "output_type": "stream",
     "text": [
      "[14:19:10] WARNING: ../src/learner.cc:1115: Starting in XGBoost 1.3.0, the default evaluation metric used with the objective 'binary:logistic' was changed from 'error' to 'logloss'. Explicitly set eval_metric if you'd like to restore the old behavior.\n"
     ]
    },
    {
     "data": {
      "text/plain": [
       "XGBClassifier(base_score=0.5, booster='gbtree', colsample_bylevel=1,\n",
       "              colsample_bynode=1, colsample_bytree=1, enable_categorical=False,\n",
       "              gamma=0, gpu_id=-1, importance_type=None,\n",
       "              interaction_constraints='', learning_rate=0.300000012,\n",
       "              max_delta_step=0, max_depth=3, min_child_weight=1, missing=1,\n",
       "              monotone_constraints='()', n_estimators=50, n_jobs=8,\n",
       "              num_parallel_tree=1, predictor='auto', random_state=0,\n",
       "              reg_alpha=0, reg_lambda=1, scale_pos_weight=1, subsample=1,\n",
       "              tree_method='exact', validate_parameters=1, verbosity=1)"
      ]
     },
     "execution_count": 43,
     "metadata": {},
     "output_type": "execute_result"
    }
   ],
   "source": [
    "xgb_new.fit(scaled_train_df,y_train)"
   ]
  },
  {
   "cell_type": "code",
   "execution_count": 44,
   "id": "5c3de872",
   "metadata": {},
   "outputs": [
    {
     "data": {
      "text/plain": [
       "array([0, 0, 0, ..., 0, 0, 0])"
      ]
     },
     "execution_count": 44,
     "metadata": {},
     "output_type": "execute_result"
    }
   ],
   "source": [
    "xgb_new_pred = xgb_new.predict(scaled_test_df)\n",
    "xgb_new_pred"
   ]
  },
  {
   "cell_type": "code",
   "execution_count": 45,
   "id": "b8371e5e",
   "metadata": {},
   "outputs": [
    {
     "data": {
      "text/plain": [
       "0.823"
      ]
     },
     "execution_count": 45,
     "metadata": {},
     "output_type": "execute_result"
    }
   ],
   "source": [
    "ac_xgb_new = accuracy_score(y_test,xgb_new_pred)\n",
    "ac_xgb_new"
   ]
  },
  {
   "cell_type": "code",
   "execution_count": 46,
   "id": "2dadfe77",
   "metadata": {},
   "outputs": [
    {
     "data": {
      "text/plain": [
       "DecisionTreeClassifier()"
      ]
     },
     "execution_count": 46,
     "metadata": {},
     "output_type": "execute_result"
    }
   ],
   "source": [
    "dt_model = DecisionTreeClassifier()\n",
    "dt_model.fit(scaled_train_df,y_train)"
   ]
  },
  {
   "cell_type": "code",
   "execution_count": 47,
   "id": "803b8b9a",
   "metadata": {},
   "outputs": [
    {
     "data": {
      "text/plain": [
       "array([0, 1, 0, ..., 0, 1, 0])"
      ]
     },
     "execution_count": 47,
     "metadata": {},
     "output_type": "execute_result"
    }
   ],
   "source": [
    "dt_pred = dt_model.predict(scaled_test_df)\n",
    "dt_pred"
   ]
  },
  {
   "cell_type": "code",
   "execution_count": 48,
   "id": "967146d7",
   "metadata": {},
   "outputs": [
    {
     "data": {
      "text/plain": [
       "0.686"
      ]
     },
     "execution_count": 48,
     "metadata": {},
     "output_type": "execute_result"
    }
   ],
   "source": [
    "ac_dt = accuracy_score(y_test,dt_pred)\n",
    "ac_dt"
   ]
  },
  {
   "cell_type": "code",
   "execution_count": 49,
   "id": "a95b2d35",
   "metadata": {},
   "outputs": [],
   "source": [
    "#for DecisionTreeClassifier\n",
    "grid_pram = {\"criterion\":['gini','entropy'],\n",
    "             \"splitter\":['best','random'],\n",
    "             \"max_depth\" : range(2,40,1),\n",
    "             \"min_samples_split\":range(2,10 ,1),\n",
    "             \"min_samples_leaf\":range(1,10,1),\n",
    "             'ccp_alpha':np.random.rand(20)\n",
    "             }"
   ]
  },
  {
   "cell_type": "code",
   "execution_count": 50,
   "id": "654179df",
   "metadata": {},
   "outputs": [],
   "source": [
    "grid_ccp = GridSearchCV(estimator=dt_model, param_grid=grid_pram , cv = 5 ,scoring='roc_auc', n_jobs=-1,verbose=3)"
   ]
  },
  {
   "cell_type": "code",
   "execution_count": 51,
   "id": "29f3c75e",
   "metadata": {},
   "outputs": [],
   "source": [
    "# grid_ccp.fit(scaled_train_df,y_train)"
   ]
  },
  {
   "cell_type": "code",
   "execution_count": 52,
   "id": "908eb543",
   "metadata": {},
   "outputs": [],
   "source": [
    "# grid_ccp.best_params_"
   ]
  },
  {
   "cell_type": "code",
   "execution_count": 53,
   "id": "229befa0",
   "metadata": {},
   "outputs": [
    {
     "ename": "IndentationError",
     "evalue": "unexpected indent (1155032572.py, line 2)",
     "output_type": "error",
     "traceback": [
      "\u001b[0;36m  Input \u001b[0;32mIn [53]\u001b[0;36m\u001b[0m\n\u001b[0;31m    max_depth=2,\u001b[0m\n\u001b[0m    ^\u001b[0m\n\u001b[0;31mIndentationError\u001b[0m\u001b[0;31m:\u001b[0m unexpected indent\n"
     ]
    }
   ],
   "source": [
    "# dt_model_new = DecisionTreeClassifier(criterion=\"entropy\",\n",
    "                                   max_depth=2,\n",
    "                                   min_samples_leaf=1,\n",
    "                                   min_samples_split=2,\n",
    "                                   splitter='best',\n",
    "                                   ccp_alpha=0.06691925422557021)"
   ]
  },
  {
   "cell_type": "code",
   "execution_count": null,
   "id": "155954b2",
   "metadata": {},
   "outputs": [],
   "source": [
    "# dt_model_new.fit(scaled_train_df,y_train)"
   ]
  },
  {
   "cell_type": "code",
   "execution_count": null,
   "id": "d90f2b93",
   "metadata": {},
   "outputs": [],
   "source": [
    "# dt_pred_new = dt_mode_new.predict(scaled_test_df)\n",
    "# dt_pred_new"
   ]
  },
  {
   "cell_type": "code",
   "execution_count": null,
   "id": "0c7c037e",
   "metadata": {},
   "outputs": [],
   "source": [
    "# ac_dt_new = accuracy_score(y_test,dt_pred)\n",
    "# ac_dt_new"
   ]
  },
  {
   "cell_type": "code",
   "execution_count": null,
   "id": "6a2e1424",
   "metadata": {},
   "outputs": [],
   "source": []
  }
 ],
 "metadata": {
  "kernelspec": {
   "display_name": "Python 3 (ipykernel)",
   "language": "python",
   "name": "python3"
  },
  "language_info": {
   "codemirror_mode": {
    "name": "ipython",
    "version": 3
   },
   "file_extension": ".py",
   "mimetype": "text/x-python",
   "name": "python",
   "nbconvert_exporter": "python",
   "pygments_lexer": "ipython3",
   "version": "3.9.0"
  }
 },
 "nbformat": 4,
 "nbformat_minor": 5
}
